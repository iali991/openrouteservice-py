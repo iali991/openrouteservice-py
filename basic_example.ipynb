{
 "cells": [
  {
   "cell_type": "markdown",
   "metadata": {},
   "source": [
    "# Simple `openrouteservice-py` examples\n",
    "\n",
    "This notebook is just a small reference on how to use `openrouteservice` package to request:\n",
    "- [directions](https://openrouteservice.org/dev)\n",
    "- [isochrones](https://openrouteservice.org/dev/#/api-docs/v2/isochrones/{profile}/post)\n",
    "- [matrix](https://openrouteservice.org/dev/#/api-docs/v2/matrix/{profile}/post)\n",
    "- [POIs](https://openrouteservice.org/dev/#/api-docs/pois/post)\n",
    "- [Elevation](https://openrouteservice.org/dev/#/api-docs/elevation/line/post)\n",
    "- [Route Optimization](https://openrouteservice.org/dev/#/api-docs/optimization/post)"
   ]
  },
  {
   "cell_type": "code",
   "execution_count": 1,
   "metadata": {},
   "outputs": [],
   "source": [
    "import openrouteservice as ors\n",
    "import folium\n",
    "\n",
    "client = ors.Client(key='5b3ce3597851110001cf62485a59fee9eaee45ca848c807ba6f97539')"
   ]
  },
  {
   "cell_type": "markdown",
   "metadata": {},
   "source": [
    "## TOC\n",
    "\n",
    "- **[Directions](#Directions)**\n",
    "- **[Isochrones](#Isochrones)**\n",
    "- **[Matrix](#Matrix)**\n",
    "- **[POIs](#POIs)**\n",
    "- **[Geocoding](#Geocoding)**\n",
    "- **[Elevation](#Elevation)**\n",
    "- **[Optimization](#Optimization)**"
   ]
  },
  {
   "cell_type": "markdown",
   "metadata": {},
   "source": [
    "## Directions"
   ]
  },
  {
   "cell_type": "code",
   "execution_count": 2,
   "metadata": {},
   "outputs": [
    {
     "data": {
      "text/html": [
       "<div style=\"width:100%;\"><div style=\"position:relative;width:100%;height:0;padding-bottom:60%;\"><span style=\"color:#565656\">Make this Notebook Trusted to load map: File -> Trust Notebook</span><iframe srcdoc=\"&lt;!DOCTYPE html&gt;\n",
       "&lt;html&gt;\n",
       "&lt;head&gt;\n",
       "    \n",
       "    &lt;meta http-equiv=&quot;content-type&quot; content=&quot;text/html; charset=UTF-8&quot; /&gt;\n",
       "    \n",
       "        &lt;script&gt;\n",
       "            L_NO_TOUCH = false;\n",
       "            L_DISABLE_3D = false;\n",
       "        &lt;/script&gt;\n",
       "    \n",
       "    &lt;style&gt;html, body {width: 100%;height: 100%;margin: 0;padding: 0;}&lt;/style&gt;\n",
       "    &lt;style&gt;#map {position:absolute;top:0;bottom:0;right:0;left:0;}&lt;/style&gt;\n",
       "    &lt;script src=&quot;https://cdn.jsdelivr.net/npm/leaflet@1.9.3/dist/leaflet.js&quot;&gt;&lt;/script&gt;\n",
       "    &lt;script src=&quot;https://code.jquery.com/jquery-1.12.4.min.js&quot;&gt;&lt;/script&gt;\n",
       "    &lt;script src=&quot;https://cdn.jsdelivr.net/npm/bootstrap@5.2.2/dist/js/bootstrap.bundle.min.js&quot;&gt;&lt;/script&gt;\n",
       "    &lt;script src=&quot;https://cdnjs.cloudflare.com/ajax/libs/Leaflet.awesome-markers/2.0.2/leaflet.awesome-markers.js&quot;&gt;&lt;/script&gt;\n",
       "    &lt;link rel=&quot;stylesheet&quot; href=&quot;https://cdn.jsdelivr.net/npm/leaflet@1.9.3/dist/leaflet.css&quot;/&gt;\n",
       "    &lt;link rel=&quot;stylesheet&quot; href=&quot;https://cdn.jsdelivr.net/npm/bootstrap@5.2.2/dist/css/bootstrap.min.css&quot;/&gt;\n",
       "    &lt;link rel=&quot;stylesheet&quot; href=&quot;https://netdna.bootstrapcdn.com/bootstrap/3.0.0/css/bootstrap.min.css&quot;/&gt;\n",
       "    &lt;link rel=&quot;stylesheet&quot; href=&quot;https://cdn.jsdelivr.net/npm/@fortawesome/fontawesome-free@6.2.0/css/all.min.css&quot;/&gt;\n",
       "    &lt;link rel=&quot;stylesheet&quot; href=&quot;https://cdnjs.cloudflare.com/ajax/libs/Leaflet.awesome-markers/2.0.2/leaflet.awesome-markers.css&quot;/&gt;\n",
       "    &lt;link rel=&quot;stylesheet&quot; href=&quot;https://cdn.jsdelivr.net/gh/python-visualization/folium/folium/templates/leaflet.awesome.rotate.min.css&quot;/&gt;\n",
       "    \n",
       "            &lt;meta name=&quot;viewport&quot; content=&quot;width=device-width,\n",
       "                initial-scale=1.0, maximum-scale=1.0, user-scalable=no&quot; /&gt;\n",
       "            &lt;style&gt;\n",
       "                #map_3373c6bfc1802bc4287f519478611621 {\n",
       "                    position: relative;\n",
       "                    width: 100.0%;\n",
       "                    height: 100.0%;\n",
       "                    left: 0.0%;\n",
       "                    top: 0.0%;\n",
       "                }\n",
       "                .leaflet-container { font-size: 1rem; }\n",
       "            &lt;/style&gt;\n",
       "        \n",
       "&lt;/head&gt;\n",
       "&lt;body&gt;\n",
       "    \n",
       "    \n",
       "            &lt;div class=&quot;folium-map&quot; id=&quot;map_3373c6bfc1802bc4287f519478611621&quot; &gt;&lt;/div&gt;\n",
       "        \n",
       "&lt;/body&gt;\n",
       "&lt;script&gt;\n",
       "    \n",
       "    \n",
       "            var map_3373c6bfc1802bc4287f519478611621 = L.map(\n",
       "                &quot;map_3373c6bfc1802bc4287f519478611621&quot;,\n",
       "                {\n",
       "                    center: [52.521861, 13.40744],\n",
       "                    crs: L.CRS.EPSG3857,\n",
       "                    zoom: 13,\n",
       "                    zoomControl: true,\n",
       "                    preferCanvas: false,\n",
       "                }\n",
       "            );\n",
       "\n",
       "            \n",
       "\n",
       "        \n",
       "    \n",
       "            var tile_layer_8cccb04fbb80c660d7a037dffebed6df = L.tileLayer(\n",
       "                &quot;https://cartodb-basemaps-{s}.global.ssl.fastly.net/light_all/{z}/{x}/{y}.png&quot;,\n",
       "                {&quot;attribution&quot;: &quot;\\u0026copy; \\u003ca target=\\&quot;_blank\\&quot; href=\\&quot;http://www.openstreetmap.org/copyright\\&quot;\\u003eOpenStreetMap\\u003c/a\\u003e contributors \\u0026copy; \\u003ca target=\\&quot;_blank\\&quot; href=\\&quot;http://cartodb.com/attributions\\&quot;\\u003eCartoDB\\u003c/a\\u003e, CartoDB \\u003ca target=\\&quot;_blank\\&quot; href =\\&quot;http://cartodb.com/attributions\\&quot;\\u003eattributions\\u003c/a\\u003e&quot;, &quot;detectRetina&quot;: false, &quot;maxNativeZoom&quot;: 18, &quot;maxZoom&quot;: 18, &quot;minZoom&quot;: 0, &quot;noWrap&quot;: false, &quot;opacity&quot;: 1, &quot;subdomains&quot;: &quot;abc&quot;, &quot;tms&quot;: false}\n",
       "            ).addTo(map_3373c6bfc1802bc4287f519478611621);\n",
       "        \n",
       "    \n",
       "            var poly_line_fd40bb5882569e6ea4b9fa362965d25e = L.polyline(\n",
       "                [[52.511067, 13.426947], [52.511181, 13.426728], [52.511305, 13.426484], [52.5115, 13.426147], [52.511598, 13.426034], [52.511651, 13.426012], [52.511694, 13.426053], [52.511736, 13.426108], [52.511969, 13.426364], [52.511979, 13.426344], [52.512261, 13.425841], [52.512645, 13.425283], [52.512961, 13.424834], [52.513247, 13.424378], [52.513315, 13.424248], [52.51326, 13.424128], [52.513316, 13.423979], [52.513358, 13.423874], [52.513385, 13.423876], [52.513409, 13.42381], [52.513507, 13.423525], [52.513859, 13.422514], [52.513904, 13.422381], [52.513944, 13.422267], [52.514117, 13.42177], [52.514209, 13.421501], [52.514772, 13.419863], [52.514895, 13.419505], [52.514973, 13.419279], [52.515082, 13.41896], [52.515143, 13.418793], [52.515288, 13.418352], [52.515317, 13.418312], [52.515389, 13.418331], [52.51553, 13.418372], [52.515681, 13.41841], [52.515776, 13.418401], [52.516285, 13.418431], [52.516386, 13.418434], [52.516611, 13.418449], [52.517138, 13.418411], [52.517335, 13.418362], [52.517424, 13.41834], [52.517566, 13.4183], [52.518005, 13.418147], [52.518112, 13.418104], [52.518223, 13.418041], [52.518431, 13.417922], [52.518681, 13.417753], [52.518977, 13.417514], [52.519183, 13.417334], [52.519534, 13.417006], [52.519615, 13.416916], [52.520072, 13.416391], [52.520509, 13.415882], [52.520812, 13.415569], [52.520848, 13.415524], [52.52086, 13.41551], [52.520896, 13.415465], [52.521083, 13.415246], [52.521168, 13.415144], [52.521037, 13.415], [52.521143, 13.414723], [52.521595, 13.414386], [52.52182, 13.414075], [52.522001, 13.413765], [52.522259, 13.413207], [52.522269, 13.413065], [52.522417, 13.412737], [52.522596, 13.412357], [52.522901, 13.411764], [52.523134, 13.41133], [52.523174, 13.411252], [52.523143, 13.411161], [52.523153, 13.411118], [52.523187, 13.411062], [52.523229, 13.410992], [52.523272, 13.410921], [52.523306, 13.410864], [52.523365, 13.410766], [52.523374, 13.41078], [52.523453, 13.410902], [52.523478, 13.410857], [52.523546, 13.410738], [52.523853, 13.410208], [52.52388, 13.409748], [52.523872, 13.40968], [52.523852, 13.409652], [52.523879, 13.409543], [52.52391, 13.409419], [52.523942, 13.409439], [52.52397, 13.409407], [52.524055, 13.409104], [52.524095, 13.408963], [52.524142, 13.408799], [52.524178, 13.408676], [52.524426, 13.40797], [52.524456, 13.407891], [52.524495, 13.407784], [52.524671, 13.40731], [52.524688, 13.407263], [52.52472, 13.407174], [52.524768, 13.407046], [52.524813, 13.406843], [52.52487, 13.40652], [52.524871, 13.406393], [52.524837, 13.406242], [52.524877, 13.406158], [52.524911, 13.406088], [52.524931, 13.406043], [52.525919, 13.403872], [52.525942, 13.403693], [52.52596, 13.403559], [52.526045, 13.403549], [52.526078, 13.403508], [52.526199, 13.403074], [52.526569, 13.401743], [52.526613, 13.401586], [52.52667, 13.401384], [52.526722, 13.401194], [52.526823, 13.400823], [52.526871, 13.400648], [52.527311, 13.399034], [52.527345, 13.398912], [52.527217, 13.398193], [52.527271, 13.398168], [52.527256, 13.398082], [52.527301, 13.398058], [52.527284, 13.397967], [52.527637, 13.397779], [52.52771, 13.397739], [52.527818, 13.397674], [52.52803, 13.397547], [52.528588, 13.397212], [52.52851, 13.396922], [52.528347, 13.396312], [52.52832, 13.396211], [52.528017, 13.395082], [52.528052, 13.395003], [52.528087, 13.394922], [52.528466, 13.394095], [52.528445, 13.393989], [52.528526, 13.393814], [52.528617, 13.393718], [52.528962, 13.393277], [52.529052, 13.393162], [52.529144, 13.393043], [52.529634, 13.392417], [52.529659, 13.392384], [52.529837, 13.392158], [52.529963, 13.391999], [52.530047, 13.391892], [52.530261, 13.391616], [52.530362, 13.391489], [52.530807, 13.390923], [52.531184, 13.390443], [52.531661, 13.389833], [52.531651, 13.38973], [52.531668, 13.389689], [52.531653, 13.389535], [52.531616, 13.389156], [52.531572, 13.388717], [52.531529, 13.388279], [52.53151, 13.388086], [52.531442, 13.387389], [52.531371, 13.386975], [52.531354, 13.386984], [52.531333, 13.386867], [52.531314, 13.386756], [52.531329, 13.386748], [52.531294, 13.386537], [52.531365, 13.386494], [52.531477, 13.386426], [52.531465, 13.386354], [52.531557, 13.386257], [52.531563, 13.386295], [52.531567, 13.386321], [52.532347, 13.385455], [52.532377, 13.385422], [52.532381, 13.385432], [52.532409, 13.385402], [52.532449, 13.38536], [52.532529, 13.38527], [52.532572, 13.385222], [52.532604, 13.385184], [52.532586, 13.385135], [52.532625, 13.385039], [52.533398, 13.384176], [52.533527, 13.384038]],\n",
       "                {&quot;bubblingMouseEvents&quot;: true, &quot;color&quot;: &quot;#3388ff&quot;, &quot;dashArray&quot;: null, &quot;dashOffset&quot;: null, &quot;fill&quot;: false, &quot;fillColor&quot;: &quot;#3388ff&quot;, &quot;fillOpacity&quot;: 0.2, &quot;fillRule&quot;: &quot;evenodd&quot;, &quot;lineCap&quot;: &quot;round&quot;, &quot;lineJoin&quot;: &quot;round&quot;, &quot;noClip&quot;: false, &quot;opacity&quot;: 1.0, &quot;smoothFactor&quot;: 1.0, &quot;stroke&quot;: true, &quot;weight&quot;: 3}\n",
       "            ).addTo(map_3373c6bfc1802bc4287f519478611621);\n",
       "        \n",
       "&lt;/script&gt;\n",
       "&lt;/html&gt;\" style=\"position:absolute;width:100%;height:100%;left:0;top:0;border:none !important;\" allowfullscreen webkitallowfullscreen mozallowfullscreen></iframe></div></div>"
      ],
      "text/plain": [
       "<folium.folium.Map at 0x2d7ce4a7430>"
      ]
     },
     "execution_count": 2,
     "metadata": {},
     "output_type": "execute_result"
    }
   ],
   "source": [
    "m = folium.Map(location=[52.521861, 13.40744], tiles='cartodbpositron', zoom_start=13)\n",
    "\n",
    "# Some coordinates in Berlin\n",
    "coordinates = [[13.42731, 52.51088], [13.384116, 52.533558]]\n",
    "\n",
    "route = client.directions(\n",
    "    coordinates=coordinates,\n",
    "    profile='foot-walking',\n",
    "    format='geojson',\n",
    "    options={\"avoid_features\": [\"steps\"]},\n",
    "    validate=False,\n",
    ")\n",
    "folium.PolyLine(locations=[list(reversed(coord)) \n",
    "                           for coord in \n",
    "                           route['features'][0]['geometry']['coordinates']]).add_to(m)\n",
    "    \n",
    "m"
   ]
  },
  {
   "cell_type": "markdown",
   "metadata": {},
   "source": [
    "## Isochrones"
   ]
  },
  {
   "cell_type": "code",
   "execution_count": 3,
   "metadata": {},
   "outputs": [
    {
     "data": {
      "text/html": [
       "<div style=\"width:100%;\"><div style=\"position:relative;width:100%;height:0;padding-bottom:60%;\"><span style=\"color:#565656\">Make this Notebook Trusted to load map: File -> Trust Notebook</span><iframe srcdoc=\"&lt;!DOCTYPE html&gt;\n",
       "&lt;html&gt;\n",
       "&lt;head&gt;\n",
       "    \n",
       "    &lt;meta http-equiv=&quot;content-type&quot; content=&quot;text/html; charset=UTF-8&quot; /&gt;\n",
       "    \n",
       "        &lt;script&gt;\n",
       "            L_NO_TOUCH = false;\n",
       "            L_DISABLE_3D = false;\n",
       "        &lt;/script&gt;\n",
       "    \n",
       "    &lt;style&gt;html, body {width: 100%;height: 100%;margin: 0;padding: 0;}&lt;/style&gt;\n",
       "    &lt;style&gt;#map {position:absolute;top:0;bottom:0;right:0;left:0;}&lt;/style&gt;\n",
       "    &lt;script src=&quot;https://cdn.jsdelivr.net/npm/leaflet@1.9.3/dist/leaflet.js&quot;&gt;&lt;/script&gt;\n",
       "    &lt;script src=&quot;https://code.jquery.com/jquery-1.12.4.min.js&quot;&gt;&lt;/script&gt;\n",
       "    &lt;script src=&quot;https://cdn.jsdelivr.net/npm/bootstrap@5.2.2/dist/js/bootstrap.bundle.min.js&quot;&gt;&lt;/script&gt;\n",
       "    &lt;script src=&quot;https://cdnjs.cloudflare.com/ajax/libs/Leaflet.awesome-markers/2.0.2/leaflet.awesome-markers.js&quot;&gt;&lt;/script&gt;\n",
       "    &lt;link rel=&quot;stylesheet&quot; href=&quot;https://cdn.jsdelivr.net/npm/leaflet@1.9.3/dist/leaflet.css&quot;/&gt;\n",
       "    &lt;link rel=&quot;stylesheet&quot; href=&quot;https://cdn.jsdelivr.net/npm/bootstrap@5.2.2/dist/css/bootstrap.min.css&quot;/&gt;\n",
       "    &lt;link rel=&quot;stylesheet&quot; href=&quot;https://netdna.bootstrapcdn.com/bootstrap/3.0.0/css/bootstrap.min.css&quot;/&gt;\n",
       "    &lt;link rel=&quot;stylesheet&quot; href=&quot;https://cdn.jsdelivr.net/npm/@fortawesome/fontawesome-free@6.2.0/css/all.min.css&quot;/&gt;\n",
       "    &lt;link rel=&quot;stylesheet&quot; href=&quot;https://cdnjs.cloudflare.com/ajax/libs/Leaflet.awesome-markers/2.0.2/leaflet.awesome-markers.css&quot;/&gt;\n",
       "    &lt;link rel=&quot;stylesheet&quot; href=&quot;https://cdn.jsdelivr.net/gh/python-visualization/folium/folium/templates/leaflet.awesome.rotate.min.css&quot;/&gt;\n",
       "    \n",
       "            &lt;meta name=&quot;viewport&quot; content=&quot;width=device-width,\n",
       "                initial-scale=1.0, maximum-scale=1.0, user-scalable=no&quot; /&gt;\n",
       "            &lt;style&gt;\n",
       "                #map_cba916c4560295a4d31cc455115174af {\n",
       "                    position: relative;\n",
       "                    width: 100.0%;\n",
       "                    height: 100.0%;\n",
       "                    left: 0.0%;\n",
       "                    top: 0.0%;\n",
       "                }\n",
       "                .leaflet-container { font-size: 1rem; }\n",
       "            &lt;/style&gt;\n",
       "        \n",
       "&lt;/head&gt;\n",
       "&lt;body&gt;\n",
       "    \n",
       "    \n",
       "            &lt;div class=&quot;folium-map&quot; id=&quot;map_cba916c4560295a4d31cc455115174af&quot; &gt;&lt;/div&gt;\n",
       "        \n",
       "&lt;/body&gt;\n",
       "&lt;script&gt;\n",
       "    \n",
       "    \n",
       "            var map_cba916c4560295a4d31cc455115174af = L.map(\n",
       "                &quot;map_cba916c4560295a4d31cc455115174af&quot;,\n",
       "                {\n",
       "                    center: [52.521861, 13.40744],\n",
       "                    crs: L.CRS.EPSG3857,\n",
       "                    zoom: 13,\n",
       "                    zoomControl: true,\n",
       "                    preferCanvas: false,\n",
       "                }\n",
       "            );\n",
       "\n",
       "            \n",
       "\n",
       "        \n",
       "    \n",
       "            var tile_layer_b5f107cf0ff82f6bf9cdd5a2e0e8b3b6 = L.tileLayer(\n",
       "                &quot;https://cartodb-basemaps-{s}.global.ssl.fastly.net/light_all/{z}/{x}/{y}.png&quot;,\n",
       "                {&quot;attribution&quot;: &quot;\\u0026copy; \\u003ca target=\\&quot;_blank\\&quot; href=\\&quot;http://www.openstreetmap.org/copyright\\&quot;\\u003eOpenStreetMap\\u003c/a\\u003e contributors \\u0026copy; \\u003ca target=\\&quot;_blank\\&quot; href=\\&quot;http://cartodb.com/attributions\\&quot;\\u003eCartoDB\\u003c/a\\u003e, CartoDB \\u003ca target=\\&quot;_blank\\&quot; href =\\&quot;http://cartodb.com/attributions\\&quot;\\u003eattributions\\u003c/a\\u003e&quot;, &quot;detectRetina&quot;: false, &quot;maxNativeZoom&quot;: 18, &quot;maxZoom&quot;: 18, &quot;minZoom&quot;: 0, &quot;noWrap&quot;: false, &quot;opacity&quot;: 1, &quot;subdomains&quot;: &quot;abc&quot;, &quot;tms&quot;: false}\n",
       "            ).addTo(map_cba916c4560295a4d31cc455115174af);\n",
       "        \n",
       "    \n",
       "            var polygon_9f8649bde0b9dd6d153066067ee0e60a = L.polygon(\n",
       "                [[52.53604, 13.37548], [52.535703, 13.375605], [52.531876, 13.377131], [52.529448, 13.377903], [52.529102, 13.378003], [52.52901, 13.378053], [52.52895, 13.378173], [52.528913, 13.378277], [52.528328, 13.380892], [52.527926, 13.384424], [52.527253, 13.388055], [52.527494, 13.389749], [52.527522, 13.389879], [52.528165, 13.391137], [52.529345, 13.392495], [52.529628, 13.392716], [52.532058, 13.39437], [52.532153, 13.394367], [52.532416, 13.39433], [52.53694, 13.392588], [52.537244, 13.392394], [52.537236, 13.391019], [52.538879, 13.386112], [52.53889, 13.386091], [52.539779, 13.380191], [52.539765, 13.380154], [52.539614, 13.379869], [52.536716, 13.375892], [52.536434, 13.375668], [52.536136, 13.375504], [52.53604, 13.37548]],\n",
       "                {&quot;bubblingMouseEvents&quot;: true, &quot;color&quot;: &quot;#3388ff&quot;, &quot;dashArray&quot;: null, &quot;dashOffset&quot;: null, &quot;fill&quot;: &quot;00ff00&quot;, &quot;fillColor&quot;: &quot;#3388ff&quot;, &quot;fillOpacity&quot;: 0.2, &quot;fillRule&quot;: &quot;evenodd&quot;, &quot;lineCap&quot;: &quot;round&quot;, &quot;lineJoin&quot;: &quot;round&quot;, &quot;noClip&quot;: false, &quot;opacity&quot;: 0.5, &quot;smoothFactor&quot;: 1.0, &quot;stroke&quot;: true, &quot;weight&quot;: 3}\n",
       "            ).addTo(map_cba916c4560295a4d31cc455115174af);\n",
       "        \n",
       "    \n",
       "        var popup_c1f335edaf07e7f8a247f83bf3809c5a = L.popup({&quot;maxWidth&quot;: &quot;100%&quot;});\n",
       "\n",
       "        \n",
       "            \n",
       "                var html_9655d55b9c6d209bb7ba38b5df11e087 = $(`&lt;div id=&quot;html_9655d55b9c6d209bb7ba38b5df11e087&quot; style=&quot;width: 100.0%; height: 100.0%;&quot;&gt;Population: 12444.0 people&lt;/div&gt;`)[0];\n",
       "                popup_c1f335edaf07e7f8a247f83bf3809c5a.setContent(html_9655d55b9c6d209bb7ba38b5df11e087);\n",
       "            \n",
       "        \n",
       "\n",
       "        polygon_9f8649bde0b9dd6d153066067ee0e60a.bindPopup(popup_c1f335edaf07e7f8a247f83bf3809c5a)\n",
       "        ;\n",
       "\n",
       "        \n",
       "    \n",
       "    \n",
       "            var polygon_684b20bb13a40f3acf1a48ac46873173 = L.polygon(\n",
       "                [[52.533095, 13.365354], [52.53309, 13.36536], [52.532891, 13.365582], [52.532321, 13.36612], [52.532164, 13.366275], [52.527654, 13.367773], [52.526095, 13.36694], [52.525995, 13.366953], [52.525751, 13.367046], [52.525727, 13.367063], [52.525505, 13.367319], [52.525438, 13.367445], [52.523369, 13.372406], [52.522966, 13.374171], [52.521537, 13.379638], [52.521532, 13.379927], [52.520865, 13.385419], [52.520617, 13.386338], [52.520603, 13.386395], [52.520223, 13.388147], [52.520215, 13.38824], [52.520249, 13.388378], [52.5219, 13.391968], [52.522927, 13.395458], [52.523497, 13.397524], [52.52363, 13.397926], [52.523722, 13.398083], [52.525541, 13.40075], [52.526407, 13.401654], [52.528718, 13.403541], [52.529604, 13.404254], [52.53052, 13.404948], [52.532597, 13.405725], [52.532703, 13.405749], [52.533942, 13.405811], [52.534061, 13.405766], [52.53443, 13.405614], [52.534675, 13.405351], [52.540026, 13.403447], [52.540067, 13.403448], [52.540167, 13.403452], [52.540514, 13.403358], [52.540616, 13.403322], [52.540632, 13.403273], [52.54128, 13.400818], [52.541316, 13.400656], [52.541353, 13.400485], [52.542127, 13.397214], [52.543042, 13.393836], [52.543088, 13.393617], [52.543307, 13.392582], [52.54511, 13.387279], [52.545308, 13.382906], [52.545716, 13.380742], [52.545602, 13.377593], [52.545583, 13.377381], [52.545012, 13.374196], [52.5445, 13.372049], [52.544449, 13.371865], [52.542119, 13.367449], [52.541948, 13.367176], [52.541633, 13.367001], [52.540575, 13.366846], [52.536189, 13.366229], [52.533095, 13.365354]],\n",
       "                {&quot;bubblingMouseEvents&quot;: true, &quot;color&quot;: &quot;#3388ff&quot;, &quot;dashArray&quot;: null, &quot;dashOffset&quot;: null, &quot;fill&quot;: &quot;00ff00&quot;, &quot;fillColor&quot;: &quot;#3388ff&quot;, &quot;fillOpacity&quot;: 0.2, &quot;fillRule&quot;: &quot;evenodd&quot;, &quot;lineCap&quot;: &quot;round&quot;, &quot;lineJoin&quot;: &quot;round&quot;, &quot;noClip&quot;: false, &quot;opacity&quot;: 0.5, &quot;smoothFactor&quot;: 1.0, &quot;stroke&quot;: true, &quot;weight&quot;: 3}\n",
       "            ).addTo(map_cba916c4560295a4d31cc455115174af);\n",
       "        \n",
       "    \n",
       "        var popup_755d35afea57a2f14b6dd519865fa3df = L.popup({&quot;maxWidth&quot;: &quot;100%&quot;});\n",
       "\n",
       "        \n",
       "            \n",
       "                var html_731bada9aa5502fb69fdd93eafb22931 = $(`&lt;div id=&quot;html_731bada9aa5502fb69fdd93eafb22931&quot; style=&quot;width: 100.0%; height: 100.0%;&quot;&gt;Population: 59027.0 people&lt;/div&gt;`)[0];\n",
       "                popup_755d35afea57a2f14b6dd519865fa3df.setContent(html_731bada9aa5502fb69fdd93eafb22931);\n",
       "            \n",
       "        \n",
       "\n",
       "        polygon_684b20bb13a40f3acf1a48ac46873173.bindPopup(popup_755d35afea57a2f14b6dd519865fa3df)\n",
       "        ;\n",
       "\n",
       "        \n",
       "    \n",
       "&lt;/script&gt;\n",
       "&lt;/html&gt;\" style=\"position:absolute;width:100%;height:100%;left:0;top:0;border:none !important;\" allowfullscreen webkitallowfullscreen mozallowfullscreen></iframe></div></div>"
      ],
      "text/plain": [
       "<folium.folium.Map at 0x2d7ce4947f0>"
      ]
     },
     "execution_count": 3,
     "metadata": {},
     "output_type": "execute_result"
    }
   ],
   "source": [
    "m = folium.Map(location=[52.521861, 13.40744], tiles='cartodbpositron', zoom_start=13)\n",
    "\n",
    "# Some coordinate in Berlin\n",
    "coordinate = [[13.384116, 52.533558]]\n",
    "\n",
    "iso = client.isochrones(\n",
    "    locations=coordinate,\n",
    "    profile='foot-walking',\n",
    "    range=[600, 1200],\n",
    "    validate=False,\n",
    "    attributes=['total_pop']\n",
    ")\n",
    "\n",
    "# Also create a Popup with Population count within isochrones\n",
    "for isochrone in iso['features']:\n",
    "    folium.Polygon(locations=[list(reversed(coord)) for coord in isochrone['geometry']['coordinates'][0]],\n",
    "                  fill='00ff00',\n",
    "                  popup=folium.Popup(\"Population: {} people\".format(isochrone['properties']['total_pop'])),\n",
    "                  opacity=0.5).add_to(m)\n",
    "    \n",
    "m"
   ]
  },
  {
   "cell_type": "markdown",
   "metadata": {},
   "source": [
    "## Matrix"
   ]
  },
  {
   "cell_type": "code",
   "execution_count": 4,
   "metadata": {},
   "outputs": [
    {
     "name": "stdout",
     "output_type": "stream",
     "text": [
      "Durations in secs: [[0.0, 2754.05, 3795.19, 3660.45], [2754.05, 0.0, 1989.41, 4003.03], [3795.19, 1989.41, 0.0, 2467.21], [3660.45, 4003.03, 2467.21, 0.0]]\n",
      "\n",
      "Distances in m: [[0.0, 3825.17, 5271.25, 5084.1], [3825.17, 0.0, 2763.16, 5559.91], [5271.25, 2763.16, 0.0, 3426.76], [5084.1, 5559.91, 3426.76, 0.0]]\n"
     ]
    },
    {
     "data": {
      "text/html": [
       "<div style=\"width:100%;\"><div style=\"position:relative;width:100%;height:0;padding-bottom:60%;\"><span style=\"color:#565656\">Make this Notebook Trusted to load map: File -> Trust Notebook</span><iframe srcdoc=\"&lt;!DOCTYPE html&gt;\n",
       "&lt;html&gt;\n",
       "&lt;head&gt;\n",
       "    \n",
       "    &lt;meta http-equiv=&quot;content-type&quot; content=&quot;text/html; charset=UTF-8&quot; /&gt;\n",
       "    \n",
       "        &lt;script&gt;\n",
       "            L_NO_TOUCH = false;\n",
       "            L_DISABLE_3D = false;\n",
       "        &lt;/script&gt;\n",
       "    \n",
       "    &lt;style&gt;html, body {width: 100%;height: 100%;margin: 0;padding: 0;}&lt;/style&gt;\n",
       "    &lt;style&gt;#map {position:absolute;top:0;bottom:0;right:0;left:0;}&lt;/style&gt;\n",
       "    &lt;script src=&quot;https://cdn.jsdelivr.net/npm/leaflet@1.9.3/dist/leaflet.js&quot;&gt;&lt;/script&gt;\n",
       "    &lt;script src=&quot;https://code.jquery.com/jquery-1.12.4.min.js&quot;&gt;&lt;/script&gt;\n",
       "    &lt;script src=&quot;https://cdn.jsdelivr.net/npm/bootstrap@5.2.2/dist/js/bootstrap.bundle.min.js&quot;&gt;&lt;/script&gt;\n",
       "    &lt;script src=&quot;https://cdnjs.cloudflare.com/ajax/libs/Leaflet.awesome-markers/2.0.2/leaflet.awesome-markers.js&quot;&gt;&lt;/script&gt;\n",
       "    &lt;link rel=&quot;stylesheet&quot; href=&quot;https://cdn.jsdelivr.net/npm/leaflet@1.9.3/dist/leaflet.css&quot;/&gt;\n",
       "    &lt;link rel=&quot;stylesheet&quot; href=&quot;https://cdn.jsdelivr.net/npm/bootstrap@5.2.2/dist/css/bootstrap.min.css&quot;/&gt;\n",
       "    &lt;link rel=&quot;stylesheet&quot; href=&quot;https://netdna.bootstrapcdn.com/bootstrap/3.0.0/css/bootstrap.min.css&quot;/&gt;\n",
       "    &lt;link rel=&quot;stylesheet&quot; href=&quot;https://cdn.jsdelivr.net/npm/@fortawesome/fontawesome-free@6.2.0/css/all.min.css&quot;/&gt;\n",
       "    &lt;link rel=&quot;stylesheet&quot; href=&quot;https://cdnjs.cloudflare.com/ajax/libs/Leaflet.awesome-markers/2.0.2/leaflet.awesome-markers.css&quot;/&gt;\n",
       "    &lt;link rel=&quot;stylesheet&quot; href=&quot;https://cdn.jsdelivr.net/gh/python-visualization/folium/folium/templates/leaflet.awesome.rotate.min.css&quot;/&gt;\n",
       "    \n",
       "            &lt;meta name=&quot;viewport&quot; content=&quot;width=device-width,\n",
       "                initial-scale=1.0, maximum-scale=1.0, user-scalable=no&quot; /&gt;\n",
       "            &lt;style&gt;\n",
       "                #map_a130fbf03152384f29806bf615364b09 {\n",
       "                    position: relative;\n",
       "                    width: 100.0%;\n",
       "                    height: 100.0%;\n",
       "                    left: 0.0%;\n",
       "                    top: 0.0%;\n",
       "                }\n",
       "                .leaflet-container { font-size: 1rem; }\n",
       "            &lt;/style&gt;\n",
       "        \n",
       "&lt;/head&gt;\n",
       "&lt;body&gt;\n",
       "    \n",
       "    \n",
       "            &lt;div class=&quot;folium-map&quot; id=&quot;map_a130fbf03152384f29806bf615364b09&quot; &gt;&lt;/div&gt;\n",
       "        \n",
       "&lt;/body&gt;\n",
       "&lt;script&gt;\n",
       "    \n",
       "    \n",
       "            var map_a130fbf03152384f29806bf615364b09 = L.map(\n",
       "                &quot;map_a130fbf03152384f29806bf615364b09&quot;,\n",
       "                {\n",
       "                    center: [52.521861, 13.40744],\n",
       "                    crs: L.CRS.EPSG3857,\n",
       "                    zoom: 13,\n",
       "                    zoomControl: true,\n",
       "                    preferCanvas: false,\n",
       "                }\n",
       "            );\n",
       "\n",
       "            \n",
       "\n",
       "        \n",
       "    \n",
       "            var tile_layer_dd1e5a8cfe140de84d8d61d98979c134 = L.tileLayer(\n",
       "                &quot;https://cartodb-basemaps-{s}.global.ssl.fastly.net/light_all/{z}/{x}/{y}.png&quot;,\n",
       "                {&quot;attribution&quot;: &quot;\\u0026copy; \\u003ca target=\\&quot;_blank\\&quot; href=\\&quot;http://www.openstreetmap.org/copyright\\&quot;\\u003eOpenStreetMap\\u003c/a\\u003e contributors \\u0026copy; \\u003ca target=\\&quot;_blank\\&quot; href=\\&quot;http://cartodb.com/attributions\\&quot;\\u003eCartoDB\\u003c/a\\u003e, CartoDB \\u003ca target=\\&quot;_blank\\&quot; href =\\&quot;http://cartodb.com/attributions\\&quot;\\u003eattributions\\u003c/a\\u003e&quot;, &quot;detectRetina&quot;: false, &quot;maxNativeZoom&quot;: 18, &quot;maxZoom&quot;: 18, &quot;minZoom&quot;: 0, &quot;noWrap&quot;: false, &quot;opacity&quot;: 1, &quot;subdomains&quot;: &quot;abc&quot;, &quot;tms&quot;: false}\n",
       "            ).addTo(map_a130fbf03152384f29806bf615364b09);\n",
       "        \n",
       "    \n",
       "            var marker_194a83fa002cecc70faf83fbfa41243a = L.marker(\n",
       "                [52.533558, 13.384116],\n",
       "                {}\n",
       "            ).addTo(map_a130fbf03152384f29806bf615364b09);\n",
       "        \n",
       "    \n",
       "            var marker_b94bdd908b968d647450d1021ea55180 = L.marker(\n",
       "                [52.519355, 13.428726],\n",
       "                {}\n",
       "            ).addTo(map_a130fbf03152384f29806bf615364b09);\n",
       "        \n",
       "    \n",
       "            var marker_2125dfef374c8a97cb6b885c4e4291d5 = L.marker(\n",
       "                [52.498929, 13.41774],\n",
       "                {}\n",
       "            ).addTo(map_a130fbf03152384f29806bf615364b09);\n",
       "        \n",
       "    \n",
       "            var marker_96b35817856f975f319384544f0232e4 = L.marker(\n",
       "                [52.496369, 13.374825],\n",
       "                {}\n",
       "            ).addTo(map_a130fbf03152384f29806bf615364b09);\n",
       "        \n",
       "&lt;/script&gt;\n",
       "&lt;/html&gt;\" style=\"position:absolute;width:100%;height:100%;left:0;top:0;border:none !important;\" allowfullscreen webkitallowfullscreen mozallowfullscreen></iframe></div></div>"
      ],
      "text/plain": [
       "<folium.folium.Map at 0x2d7ce494400>"
      ]
     },
     "execution_count": 4,
     "metadata": {},
     "output_type": "execute_result"
    }
   ],
   "source": [
    "m = folium.Map(location=[52.521861, 13.40744], tiles='cartodbpositron', zoom_start=13)\n",
    "\n",
    "# Some coordinates in Berlin\n",
    "coordinates = [[13.384116, 52.533558], [13.428726, 52.519355], [13.41774, 52.498929], [13.374825, 52.496369]]\n",
    "\n",
    "matrix = client.distance_matrix(\n",
    "    locations=coordinates,\n",
    "    profile='foot-walking',\n",
    "    metrics=['distance', 'duration'],\n",
    "    validate=False,\n",
    ")\n",
    "\n",
    "for marker in coordinates:\n",
    "    folium.Marker(location=list(reversed(marker))).add_to(m)\n",
    "\n",
    "print(\"Durations in secs: {}\\n\".format(matrix['durations']))\n",
    "print(\"Distances in m: {}\".format(matrix['distances']))\n",
    "\n",
    "m"
   ]
  },
  {
   "cell_type": "markdown",
   "metadata": {},
   "source": [
    "## POIs"
   ]
  },
  {
   "cell_type": "code",
   "execution_count": 5,
   "metadata": {},
   "outputs": [
    {
     "ename": "KeyError",
     "evalue": "0",
     "output_type": "error",
     "traceback": [
      "\u001b[1;31m---------------------------------------------------------------------------\u001b[0m",
      "\u001b[1;31mKeyError\u001b[0m                                  Traceback (most recent call last)",
      "\u001b[1;32m~\\AppData\\Local\\Temp\\ipykernel_8440\\655337722.py\u001b[0m in \u001b[0;36m<module>\u001b[1;34m\u001b[0m\n\u001b[0;32m     13\u001b[0m )\n\u001b[0;32m     14\u001b[0m \u001b[1;33m\u001b[0m\u001b[0m\n\u001b[1;32m---> 15\u001b[1;33m \u001b[1;32mfor\u001b[0m \u001b[0mpoi\u001b[0m \u001b[1;32min\u001b[0m \u001b[0mpois\u001b[0m\u001b[1;33m[\u001b[0m\u001b[1;36m0\u001b[0m\u001b[1;33m]\u001b[0m\u001b[1;33m[\u001b[0m\u001b[1;34m'features'\u001b[0m\u001b[1;33m]\u001b[0m\u001b[1;33m:\u001b[0m\u001b[1;33m\u001b[0m\u001b[1;33m\u001b[0m\u001b[0m\n\u001b[0m\u001b[0;32m     16\u001b[0m     folium.Marker(\n\u001b[0;32m     17\u001b[0m         \u001b[0mlocation\u001b[0m\u001b[1;33m=\u001b[0m\u001b[0mlist\u001b[0m\u001b[1;33m(\u001b[0m\u001b[0mreversed\u001b[0m\u001b[1;33m(\u001b[0m\u001b[0mpoi\u001b[0m\u001b[1;33m[\u001b[0m\u001b[1;34m'geometry'\u001b[0m\u001b[1;33m]\u001b[0m\u001b[1;33m[\u001b[0m\u001b[1;34m'coordinates'\u001b[0m\u001b[1;33m]\u001b[0m\u001b[1;33m)\u001b[0m\u001b[1;33m)\u001b[0m\u001b[1;33m,\u001b[0m\u001b[1;33m\u001b[0m\u001b[1;33m\u001b[0m\u001b[0m\n",
      "\u001b[1;31mKeyError\u001b[0m: 0"
     ]
    }
   ],
   "source": [
    "m = folium.Map(location=[52.521861, 13.40744], tiles='cartodbpositron', zoom_start=13)\n",
    "\n",
    "# Some coordinates in Berlin\n",
    "geojson = {\"type\": \"point\", \"coordinates\": [13.384116, 52.533558]}\n",
    "\n",
    "pois = client.places(\n",
    "    request='pois',\n",
    "    geojson=geojson,\n",
    "    buffer=500,  # searches within 500 meters of specified point\n",
    "    filter_category_ids=[561, 568],  # https://github.com/GIScience/openpoiservice/blob/master/openpoiservice/server/categories/categories.yml\n",
    "    validate=False,\n",
    "#     dry_run=True\n",
    ")\n",
    "\n",
    "for poi in pois[0]['features']: \n",
    "    folium.Marker(\n",
    "        location=list(reversed(poi['geometry']['coordinates'])),\n",
    "        icon=folium.Icon(icon='info-sign'),\n",
    "        popup=folium.Popup(poi['properties'].get('osm_tags', {}).get('name', \"Bar ohne Namen\")),\n",
    "    ).add_to(m)\n",
    "    \n",
    "m"
   ]
  },
  {
   "cell_type": "markdown",
   "metadata": {},
   "source": [
    "## Geocoding"
   ]
  },
  {
   "cell_type": "markdown",
   "metadata": {},
   "source": [
    "### Forward Geocoding"
   ]
  },
  {
   "cell_type": "code",
   "execution_count": null,
   "metadata": {},
   "outputs": [],
   "source": [
    "m = folium.Map(location=[52.521861, 13.40744], tiles='cartodbpositron', zoom_start=13)\n",
    "\n",
    "address = \"Mollstraße 1, Berlin\"\n",
    "\n",
    "geocode = client.pelias_search(\n",
    "    text=address,\n",
    "    focus_point=list(reversed(m.location)),\n",
    "    validate=False,\n",
    ")\n",
    "\n",
    "for result in geocode['features']:\n",
    "    folium.Marker(\n",
    "        location=list(reversed(result['geometry']['coordinates'])),\n",
    "        icon=folium.Icon(icon='compass', color='green', prefix='fa'),\n",
    "        popup=folium.Popup(result['properties']['name'])\n",
    "    ).add_to(m)\n",
    "\n",
    "m"
   ]
  },
  {
   "cell_type": "markdown",
   "metadata": {},
   "source": [
    "### Reverse Geocoding"
   ]
  },
  {
   "cell_type": "code",
   "execution_count": null,
   "metadata": {},
   "outputs": [],
   "source": [
    "m = folium.Map(location=[52.521861, 13.40744], tiles='cartodbpositron', zoom_start=13)\n",
    "\n",
    "coordinate = [13.413448, 52.490993]\n",
    "\n",
    "reverse = client.pelias_reverse(\n",
    "    point=coordinate,\n",
    "    validate=False,\n",
    ")\n",
    "\n",
    "for result in reverse['features']:\n",
    "    folium.Marker(\n",
    "        location=list(reversed(result['geometry']['coordinates'])),\n",
    "        icon=folium.Icon(icon='history', color='green', prefix='fa'),\n",
    "        popup=folium.Popup(result['properties']['label'])\n",
    "    ).add_to(m)\n",
    "\n",
    "m"
   ]
  },
  {
   "cell_type": "markdown",
   "metadata": {},
   "source": [
    "## Elevation"
   ]
  },
  {
   "cell_type": "markdown",
   "metadata": {},
   "source": [
    "### Point"
   ]
  },
  {
   "cell_type": "code",
   "execution_count": null,
   "metadata": {},
   "outputs": [],
   "source": [
    "coordinate = [13.384116, 52.533558]\n",
    "\n",
    "elevation = client.elevation_point(\n",
    "    format_in='point',\n",
    "    format_out='point',\n",
    "    geometry=coordinate\n",
    ")\n",
    "\n",
    "print(elevation['geometry'])"
   ]
  },
  {
   "cell_type": "markdown",
   "metadata": {},
   "source": [
    "### Line"
   ]
  },
  {
   "cell_type": "code",
   "execution_count": null,
   "metadata": {},
   "outputs": [],
   "source": [
    "coordinates = [[13.384116, 52.533558], [13.428726, 52.519355], [13.41774, 52.498929], [13.374825, 52.496369]]\n",
    "\n",
    "elevation = client.elevation_line(\n",
    "    format_in='polyline',  # other options: geojson, encodedpolyline\n",
    "    format_out='geojson',\n",
    "    geometry=coordinates,\n",
    ")\n",
    "\n",
    "print(elevation['geometry']['coordinates'])"
   ]
  },
  {
   "cell_type": "markdown",
   "metadata": {},
   "source": [
    "## Optimization"
   ]
  },
  {
   "cell_type": "markdown",
   "metadata": {},
   "source": [
    "### Simple waypoint optimization"
   ]
  },
  {
   "cell_type": "markdown",
   "metadata": {},
   "source": [
    "With `openrouteservice-py` you can ask for waypoint optimization when requesting a normal `direction`. This assumes that your first coordinate is the start location and the last coordinate is the end location, i.e. only the `via` endpoints are optimized. To make it a round trip, make the first and last location the same."
   ]
  },
  {
   "cell_type": "code",
   "execution_count": null,
   "metadata": {
    "scrolled": false
   },
   "outputs": [],
   "source": [
    "m = folium.Map(location=[52.521861, 13.40744], tiles='cartodbpositron', zoom_start=13)\n",
    "\n",
    "# Some coordinates in Berlin\n",
    "coordinates = [[13.384116, 52.533558], [13.41774, 52.498929], [13.428726, 52.519355], [13.374825, 52.496369]]\n",
    "\n",
    "# The popup will show the ID in the coordinate list. In a non-optimized waypoint order, the waypoints\n",
    "# would have been visited from ID 0 to ID 3 sequentially.\n",
    "for idx, coords in enumerate(coordinates):\n",
    "    folium.Marker(location=list(reversed(coords)),\n",
    "                 popup=folium.Popup(\"ID: {}\".format(idx))).add_to(m)\n",
    "\n",
    "route = client.directions(\n",
    "    coordinates=coordinates,\n",
    "    profile='foot-walking',\n",
    "    format='geojson',\n",
    "    validate=False,\n",
    "    optimize_waypoints=True\n",
    ")\n",
    "\n",
    "folium.PolyLine(locations=[list(reversed(coord)) \n",
    "                           for coord in \n",
    "                           route['features'][0]['geometry']['coordinates']]).add_to(m)\n",
    "    \n",
    "m"
   ]
  },
  {
   "cell_type": "markdown",
   "metadata": {},
   "source": [
    "### Optimize job scheduling for multiple vehicles"
   ]
  },
  {
   "cell_type": "markdown",
   "metadata": {},
   "source": [
    "The next example makes more use of the power of the ORS optimization endpoint. Two vehicles are assigned to 6 jobs, where the capacity constraints are such that each vehicle can only carry out 3 jobs on its route."
   ]
  },
  {
   "cell_type": "code",
   "execution_count": null,
   "metadata": {},
   "outputs": [],
   "source": [
    "m = folium.Map(location=[52.521861, 13.40744], tiles='cartodbpositron', zoom_start=13)\n",
    "\n",
    "vehicle_locations = [[13.390446, 52.506087], [13.384116, 52.533558]]\n",
    "job_locations = [[13.428726, 52.519355],\n",
    "                 [13.41774, 52.498929],\n",
    "                 [13.374825, 52.496369],\n",
    "                 [13.378859, 52.509796],\n",
    "                 [13.400488, 52.509691],\n",
    "                 [13.358517, 52.524264]]\n",
    "\n",
    "# Assign vehicles to do the jobs\n",
    "vehicles = []\n",
    "for idx, coords in enumerate(vehicle_locations):\n",
    "    vehicles.append(ors.optimization.Vehicle(\n",
    "        id=idx,\n",
    "        profile='driving-car',\n",
    "        start=coords,\n",
    "        end=coords,\n",
    "        capacity=[3]  # Limit capacity so only 3 jobs can be taken by each vehicle\n",
    "    ))\n",
    "    folium.Marker(location=list(reversed(coords)), icon=folium.Icon(icon='truck', prefix='fa')).add_to(m)\n",
    "\n",
    "# Define jobs to be carried out\n",
    "jobs=[]\n",
    "for idx, coords in enumerate(job_locations):\n",
    "    jobs.append(ors.optimization.Job(\n",
    "        id=idx,\n",
    "        location=coords,\n",
    "        amount=[1]  # Occupies capacity in vehicle\n",
    "    ))\n",
    "    folium.Marker(location=list(reversed(coords)), icon=folium.Icon(icon='archive', prefix='fa', color='green')).add_to(m)\n",
    "\n",
    "optimized = client.optimization(\n",
    "    jobs=jobs,\n",
    "    vehicles=vehicles,\n",
    "    geometry=True,  ## will output the geometry,\n",
    ")\n",
    "\n",
    "folium.PolyLine(\n",
    "    locations=[list(reversed(coords)) for coords in ors.convert.decode_polyline(optimized['routes'][0]['geometry'])['coordinates']],\n",
    "    color='red'\n",
    ").add_to(m)\n",
    "\n",
    "folium.PolyLine(\n",
    "    locations=[list(reversed(coords)) for coords in ors.convert.decode_polyline(optimized['routes'][1]['geometry'])['coordinates']],\n",
    "    color='orange'\n",
    ").add_to(m)\n",
    "\n",
    "m"
   ]
  }
 ],
 "metadata": {
  "kernelspec": {
   "display_name": "Python 3 (ipykernel)",
   "language": "python",
   "name": "python3"
  },
  "language_info": {
   "codemirror_mode": {
    "name": "ipython",
    "version": 3
   },
   "file_extension": ".py",
   "mimetype": "text/x-python",
   "name": "python",
   "nbconvert_exporter": "python",
   "pygments_lexer": "ipython3",
   "version": "3.9.13"
  }
 },
 "nbformat": 4,
 "nbformat_minor": 1
}
